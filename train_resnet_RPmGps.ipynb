{
 "cells": [
  {
   "cell_type": "code",
   "execution_count": 1,
   "id": "aa75dda6",
   "metadata": {},
   "outputs": [],
   "source": [
    "import os\n",
    "import pandas as pd\n",
    "import numpy as np\n",
    "import torch\n",
    "import torch.nn as nn\n",
    "import torch.optim as optim\n",
    "from torch.autograd import Variable\n",
    "import torchvision.datasets as dset\n",
    "import torchvision.transforms as transforms\n",
    "import albumentations as A\n",
    "from albumentations.pytorch.transforms import ToTensorV2\n",
    "import torch.nn.functional as F\n",
    "from torch.utils.data import Dataset\n",
    "from torch.utils.data import DataLoader\n",
    "import torchvision.models as models\n",
    "import cv2\n",
    "import sys\n",
    "import math\n",
    "import random\n",
    "import splitfolders\n",
    "import torchsummary\n",
    "from tqdm import tqdm\n",
    "from ResNet_18 import resnet\n",
    "from sklearn.preprocessing import LabelEncoder\n",
    "from sklearn.model_selection import train_test_split\n",
    "from sklearn.model_selection import cross_val_score\n",
    "from sklearn.metrics import f1_score"
   ]
  },
  {
   "cell_type": "code",
   "execution_count": 2,
   "id": "990b3869",
   "metadata": {},
   "outputs": [
    {
     "data": {
      "text/plain": [
       "device(type='cuda')"
      ]
     },
     "execution_count": 2,
     "metadata": {},
     "output_type": "execute_result"
    }
   ],
   "source": [
    "device = torch.device('cuda') if torch.cuda.is_available() else torch.device('cpu')\n",
    "device"
   ]
  },
  {
   "cell_type": "code",
   "execution_count": 3,
   "id": "789a6ad7",
   "metadata": {},
   "outputs": [],
   "source": [
    "CFG = {\n",
    "    'IMG_SIZE':224,\n",
    "    'EPOCHS':50,\n",
    "    'LEARNING_RATE':1e-3,\n",
    "    'BATCH_SIZE':32,\n",
    "    'SEED':42\n",
    "}"
   ]
  },
  {
   "cell_type": "code",
   "execution_count": 4,
   "id": "ecc11a30",
   "metadata": {},
   "outputs": [],
   "source": [
    "def seed_everything(seed):\n",
    "    random.seed(seed)\n",
    "    os.environ['PYTHONHASHSEED'] = str(seed)\n",
    "    np.random.seed(seed)\n",
    "    torch.manual_seed(seed)\n",
    "    torch.cuda.manual_seed(seed)\n",
    "    torch.backends.cudnn.deterministic = True\n",
    "    torch.backends.cudnn.benchmark = True\n",
    "\n",
    "seed_everything(CFG['SEED'])"
   ]
  },
  {
   "cell_type": "code",
   "execution_count": 5,
   "id": "25f5b1d7",
   "metadata": {},
   "outputs": [],
   "source": [
    "train_df = pd.read_csv('./train_data.csv', index_col = 0)\n",
    "test_df = pd.read_csv('./test_data.csv', index_col = 0)"
   ]
  },
  {
   "cell_type": "code",
   "execution_count": 6,
   "id": "30a8786a",
   "metadata": {},
   "outputs": [],
   "source": [
    "le = LabelEncoder()\n",
    "le = le.fit(train_df['action'])\n",
    "train_df['action'] = le.transform(train_df['action'])\n",
    "test_df['action'] = le.transform(test_df['action'])"
   ]
  },
  {
   "cell_type": "code",
   "execution_count": 7,
   "id": "fc48fcc5",
   "metadata": {},
   "outputs": [
    {
     "data": {
      "text/plain": [
       "array(['community_interaction', 'entertainment', 'hobby', 'household',\n",
       "       'meal', 'outdoor_act', 'personal_care', 'recreation_etc',\n",
       "       'recreation_media', 'shop', 'sleep', 'socialising', 'study',\n",
       "       'travel', 'work'], dtype=object)"
      ]
     },
     "execution_count": 7,
     "metadata": {},
     "output_type": "execute_result"
    }
   ],
   "source": [
    "le.inverse_transform([x for x in range(15)])"
   ]
  },
  {
   "cell_type": "code",
   "execution_count": 8,
   "id": "0c9b1772",
   "metadata": {},
   "outputs": [
    {
     "data": {
      "text/html": [
       "<div>\n",
       "<style scoped>\n",
       "    .dataframe tbody tr th:only-of-type {\n",
       "        vertical-align: middle;\n",
       "    }\n",
       "\n",
       "    .dataframe tbody tr th {\n",
       "        vertical-align: top;\n",
       "    }\n",
       "\n",
       "    .dataframe thead th {\n",
       "        text-align: right;\n",
       "    }\n",
       "</style>\n",
       "<table border=\"1\" class=\"dataframe\">\n",
       "  <thead>\n",
       "    <tr style=\"text-align: right;\">\n",
       "      <th></th>\n",
       "      <th>action</th>\n",
       "      <th>img_path</th>\n",
       "      <th>user_x</th>\n",
       "      <th>lat</th>\n",
       "      <th>lon</th>\n",
       "    </tr>\n",
       "  </thead>\n",
       "  <tbody>\n",
       "    <tr>\n",
       "      <th>0</th>\n",
       "      <td>14</td>\n",
       "      <td>./ETRI_data_RP_png/user03/1600707600/RP/160076...</td>\n",
       "      <td>user03</td>\n",
       "      <td>37.560580</td>\n",
       "      <td>126.980014</td>\n",
       "    </tr>\n",
       "    <tr>\n",
       "      <th>1</th>\n",
       "      <td>14</td>\n",
       "      <td>./ETRI_data_RP_png/user02/1600700400/RP/160076...</td>\n",
       "      <td>user02</td>\n",
       "      <td>37.521518</td>\n",
       "      <td>127.032711</td>\n",
       "    </tr>\n",
       "    <tr>\n",
       "      <th>2</th>\n",
       "      <td>11</td>\n",
       "      <td>./ETRI_data_RP_png/user03/1600192800/RP/160025...</td>\n",
       "      <td>user03</td>\n",
       "      <td>37.485350</td>\n",
       "      <td>126.977478</td>\n",
       "    </tr>\n",
       "    <tr>\n",
       "      <th>3</th>\n",
       "      <td>13</td>\n",
       "      <td>./ETRI_data_RP_png/user04/1600207800/RP/160025...</td>\n",
       "      <td>user04</td>\n",
       "      <td>37.475682</td>\n",
       "      <td>127.127883</td>\n",
       "    </tr>\n",
       "    <tr>\n",
       "      <th>4</th>\n",
       "      <td>3</td>\n",
       "      <td>./ETRI_data_RP_png/user04/1599690000/RP/159973...</td>\n",
       "      <td>user04</td>\n",
       "      <td>37.435011</td>\n",
       "      <td>127.138813</td>\n",
       "    </tr>\n",
       "    <tr>\n",
       "      <th>...</th>\n",
       "      <td>...</td>\n",
       "      <td>...</td>\n",
       "      <td>...</td>\n",
       "      <td>...</td>\n",
       "      <td>...</td>\n",
       "    </tr>\n",
       "    <tr>\n",
       "      <th>43508</th>\n",
       "      <td>14</td>\n",
       "      <td>./ETRI_data_RP_png/user04/1599085500/RP/159909...</td>\n",
       "      <td>user04</td>\n",
       "      <td>37.477714</td>\n",
       "      <td>127.122898</td>\n",
       "    </tr>\n",
       "    <tr>\n",
       "      <th>43509</th>\n",
       "      <td>8</td>\n",
       "      <td>./ETRI_data_RP_png/user01/1600095660/RP/160010...</td>\n",
       "      <td>user01</td>\n",
       "      <td>37.278513</td>\n",
       "      <td>127.163544</td>\n",
       "    </tr>\n",
       "    <tr>\n",
       "      <th>43510</th>\n",
       "      <td>7</td>\n",
       "      <td>./ETRI_data_RP_png/user03/1599510360/RP/159957...</td>\n",
       "      <td>user03</td>\n",
       "      <td>37.485431</td>\n",
       "      <td>126.977606</td>\n",
       "    </tr>\n",
       "    <tr>\n",
       "      <th>43511</th>\n",
       "      <td>5</td>\n",
       "      <td>./ETRI_data_RP_png/user04/1600380900/RP/160042...</td>\n",
       "      <td>user04</td>\n",
       "      <td>37.481213</td>\n",
       "      <td>127.142602</td>\n",
       "    </tr>\n",
       "    <tr>\n",
       "      <th>43512</th>\n",
       "      <td>6</td>\n",
       "      <td>./ETRI_data_RP_png/user28/1600462500/RP/160046...</td>\n",
       "      <td>user28</td>\n",
       "      <td>37.398004</td>\n",
       "      <td>126.634177</td>\n",
       "    </tr>\n",
       "  </tbody>\n",
       "</table>\n",
       "<p>43513 rows × 5 columns</p>\n",
       "</div>"
      ],
      "text/plain": [
       "       action                                           img_path  user_x  \\\n",
       "0          14  ./ETRI_data_RP_png/user03/1600707600/RP/160076...  user03   \n",
       "1          14  ./ETRI_data_RP_png/user02/1600700400/RP/160076...  user02   \n",
       "2          11  ./ETRI_data_RP_png/user03/1600192800/RP/160025...  user03   \n",
       "3          13  ./ETRI_data_RP_png/user04/1600207800/RP/160025...  user04   \n",
       "4           3  ./ETRI_data_RP_png/user04/1599690000/RP/159973...  user04   \n",
       "...       ...                                                ...     ...   \n",
       "43508      14  ./ETRI_data_RP_png/user04/1599085500/RP/159909...  user04   \n",
       "43509       8  ./ETRI_data_RP_png/user01/1600095660/RP/160010...  user01   \n",
       "43510       7  ./ETRI_data_RP_png/user03/1599510360/RP/159957...  user03   \n",
       "43511       5  ./ETRI_data_RP_png/user04/1600380900/RP/160042...  user04   \n",
       "43512       6  ./ETRI_data_RP_png/user28/1600462500/RP/160046...  user28   \n",
       "\n",
       "             lat         lon  \n",
       "0      37.560580  126.980014  \n",
       "1      37.521518  127.032711  \n",
       "2      37.485350  126.977478  \n",
       "3      37.475682  127.127883  \n",
       "4      37.435011  127.138813  \n",
       "...          ...         ...  \n",
       "43508  37.477714  127.122898  \n",
       "43509  37.278513  127.163544  \n",
       "43510  37.485431  126.977606  \n",
       "43511  37.481213  127.142602  \n",
       "43512  37.398004  126.634177  \n",
       "\n",
       "[43513 rows x 5 columns]"
      ]
     },
     "execution_count": 8,
     "metadata": {},
     "output_type": "execute_result"
    }
   ],
   "source": [
    "img_path_list = []\n",
    "for i in range(15):\n",
    "    path_list = list(train_df[train_df['action']==i]['img_path'])\n",
    "    if len(path_list) >= 5000:\n",
    "        tmp = random.sample(path_list, 5000)\n",
    "        for i in tmp:\n",
    "            img_path_list.append(i)\n",
    "    else:\n",
    "        for i in path_list:\n",
    "            img_path_list.append(i)\n",
    "df = pd.DataFrame(img_path_list)\n",
    "df.columns = ['img_path']\n",
    "df\n",
    "\n",
    "path_label_df = pd.merge(train_df, df, on='img_path', how='inner')\n",
    "path_label_df"
   ]
  },
  {
   "cell_type": "code",
   "execution_count": 9,
   "id": "2b920f96",
   "metadata": {},
   "outputs": [
    {
     "data": {
      "text/plain": [
       "'./ETRI_data_RP_png/user03/1600707600/RP/1600764900.png'"
      ]
     },
     "execution_count": 9,
     "metadata": {},
     "output_type": "execute_result"
    }
   ],
   "source": [
    "path_label_df['img_path'].iloc[0]"
   ]
  },
  {
   "cell_type": "code",
   "execution_count": 10,
   "id": "14395dff",
   "metadata": {},
   "outputs": [
    {
     "data": {
      "text/plain": [
       "14    5000\n",
       "13    5000\n",
       "8     5000\n",
       "4     4381\n",
       "6     3968\n",
       "12    2534\n",
       "3     2481\n",
       "10    2406\n",
       "7     2291\n",
       "1     2187\n",
       "11    2144\n",
       "9     1995\n",
       "5     1927\n",
       "2     1580\n",
       "0      619\n",
       "Name: action, dtype: int64"
      ]
     },
     "execution_count": 10,
     "metadata": {},
     "output_type": "execute_result"
    }
   ],
   "source": [
    "path_label_df['action'].value_counts()"
   ]
  },
  {
   "cell_type": "code",
   "execution_count": 11,
   "id": "82615fb5",
   "metadata": {},
   "outputs": [],
   "source": [
    "idx1 = path_label_df[path_label_df['action'] == 3].index\n",
    "idx2 = path_label_df[path_label_df['action'] == 10].index\n",
    "idx3 = path_label_df[path_label_df['action'] == 7].index\n",
    "idx4 = path_label_df[path_label_df['action'] == 1].index\n",
    "idx5 = path_label_df[path_label_df['action'] == 11].index\n",
    "idx6 = path_label_df[path_label_df['action'] == 9].index\n",
    "idx7 = path_label_df[path_label_df['action'] == 5].index\n",
    "idx8 = path_label_df[path_label_df['action'] == 2].index\n",
    "idx9 = path_label_df[path_label_df['action'] == 0].index\n",
    "idx10 = path_label_df[path_label_df['action'] == 8].index\n",
    "idx11 = path_label_df[path_label_df['action'] == 4].index"
   ]
  },
  {
   "cell_type": "code",
   "execution_count": 12,
   "id": "14c4b6a4",
   "metadata": {},
   "outputs": [],
   "source": [
    "path_label_df = path_label_df.drop(index=idx1).drop(index=idx2).drop(index=idx3).drop(index=idx4).drop(index=idx5).drop(index=idx6).drop(index=idx7).drop(index=idx8).drop(index=idx9).drop(index=idx10).drop(index=idx11)"
   ]
  },
  {
   "cell_type": "code",
   "execution_count": 13,
   "id": "a5d5ec85",
   "metadata": {},
   "outputs": [
    {
     "data": {
      "text/plain": [
       "14    5000\n",
       "13    5000\n",
       "6     3968\n",
       "12    2534\n",
       "Name: action, dtype: int64"
      ]
     },
     "execution_count": 13,
     "metadata": {},
     "output_type": "execute_result"
    }
   ],
   "source": [
    "path_label_df['action'].value_counts()"
   ]
  },
  {
   "cell_type": "code",
   "execution_count": 14,
   "id": "d0c8ed8d",
   "metadata": {},
   "outputs": [
    {
     "data": {
      "text/html": [
       "<div>\n",
       "<style scoped>\n",
       "    .dataframe tbody tr th:only-of-type {\n",
       "        vertical-align: middle;\n",
       "    }\n",
       "\n",
       "    .dataframe tbody tr th {\n",
       "        vertical-align: top;\n",
       "    }\n",
       "\n",
       "    .dataframe thead th {\n",
       "        text-align: right;\n",
       "    }\n",
       "</style>\n",
       "<table border=\"1\" class=\"dataframe\">\n",
       "  <thead>\n",
       "    <tr style=\"text-align: right;\">\n",
       "      <th></th>\n",
       "      <th>action</th>\n",
       "      <th>img_path</th>\n",
       "      <th>user_x</th>\n",
       "      <th>lat</th>\n",
       "      <th>lon</th>\n",
       "    </tr>\n",
       "  </thead>\n",
       "  <tbody>\n",
       "    <tr>\n",
       "      <th>0</th>\n",
       "      <td>13</td>\n",
       "      <td>./ETRI_data_RP_png/user03/1600876800/RP/160090...</td>\n",
       "      <td>user03</td>\n",
       "      <td>37.488120</td>\n",
       "      <td>126.982263</td>\n",
       "    </tr>\n",
       "    <tr>\n",
       "      <th>1</th>\n",
       "      <td>10</td>\n",
       "      <td>./ETRI_data_RP_png/user26/1599836400/RP/159985...</td>\n",
       "      <td>user26</td>\n",
       "      <td>37.554346</td>\n",
       "      <td>126.922069</td>\n",
       "    </tr>\n",
       "    <tr>\n",
       "      <th>2</th>\n",
       "      <td>6</td>\n",
       "      <td>./ETRI_data_RP_png/user27/1600309320/RP/160031...</td>\n",
       "      <td>user27</td>\n",
       "      <td>37.529723</td>\n",
       "      <td>127.008367</td>\n",
       "    </tr>\n",
       "    <tr>\n",
       "      <th>3</th>\n",
       "      <td>5</td>\n",
       "      <td>./ETRI_data_RP_png/user04/1599957060/RP/159997...</td>\n",
       "      <td>user04</td>\n",
       "      <td>37.434939</td>\n",
       "      <td>127.138877</td>\n",
       "    </tr>\n",
       "    <tr>\n",
       "      <th>4</th>\n",
       "      <td>11</td>\n",
       "      <td>./ETRI_data_RP_png/user02/1598972400/RP/159903...</td>\n",
       "      <td>user02</td>\n",
       "      <td>37.521560</td>\n",
       "      <td>127.032720</td>\n",
       "    </tr>\n",
       "    <tr>\n",
       "      <th>...</th>\n",
       "      <td>...</td>\n",
       "      <td>...</td>\n",
       "      <td>...</td>\n",
       "      <td>...</td>\n",
       "      <td>...</td>\n",
       "    </tr>\n",
       "    <tr>\n",
       "      <th>3724</th>\n",
       "      <td>13</td>\n",
       "      <td>./ETRI_data_RP_png/user03/1599928800/RP/159999...</td>\n",
       "      <td>user03</td>\n",
       "      <td>37.283530</td>\n",
       "      <td>126.980865</td>\n",
       "    </tr>\n",
       "    <tr>\n",
       "      <th>3725</th>\n",
       "      <td>8</td>\n",
       "      <td>./ETRI_data_RP_png/user03/1601141400/RP/160121...</td>\n",
       "      <td>user03</td>\n",
       "      <td>37.485415</td>\n",
       "      <td>126.977617</td>\n",
       "    </tr>\n",
       "    <tr>\n",
       "      <th>3726</th>\n",
       "      <td>13</td>\n",
       "      <td>./ETRI_data_RP_png/user03/1600448400/RP/160048...</td>\n",
       "      <td>user03</td>\n",
       "      <td>37.517630</td>\n",
       "      <td>127.089633</td>\n",
       "    </tr>\n",
       "    <tr>\n",
       "      <th>3727</th>\n",
       "      <td>4</td>\n",
       "      <td>./ETRI_data_RP_png/user04/1599690000/RP/159970...</td>\n",
       "      <td>user04</td>\n",
       "      <td>37.464091</td>\n",
       "      <td>127.127168</td>\n",
       "    </tr>\n",
       "    <tr>\n",
       "      <th>3728</th>\n",
       "      <td>12</td>\n",
       "      <td>./ETRI_data_RP_png/user01/1600831800/RP/160086...</td>\n",
       "      <td>user01</td>\n",
       "      <td>37.482461</td>\n",
       "      <td>126.956358</td>\n",
       "    </tr>\n",
       "  </tbody>\n",
       "</table>\n",
       "<p>3729 rows × 5 columns</p>\n",
       "</div>"
      ],
      "text/plain": [
       "      action                                           img_path  user_x  \\\n",
       "0         13  ./ETRI_data_RP_png/user03/1600876800/RP/160090...  user03   \n",
       "1         10  ./ETRI_data_RP_png/user26/1599836400/RP/159985...  user26   \n",
       "2          6  ./ETRI_data_RP_png/user27/1600309320/RP/160031...  user27   \n",
       "3          5  ./ETRI_data_RP_png/user04/1599957060/RP/159997...  user04   \n",
       "4         11  ./ETRI_data_RP_png/user02/1598972400/RP/159903...  user02   \n",
       "...      ...                                                ...     ...   \n",
       "3724      13  ./ETRI_data_RP_png/user03/1599928800/RP/159999...  user03   \n",
       "3725       8  ./ETRI_data_RP_png/user03/1601141400/RP/160121...  user03   \n",
       "3726      13  ./ETRI_data_RP_png/user03/1600448400/RP/160048...  user03   \n",
       "3727       4  ./ETRI_data_RP_png/user04/1599690000/RP/159970...  user04   \n",
       "3728      12  ./ETRI_data_RP_png/user01/1600831800/RP/160086...  user01   \n",
       "\n",
       "            lat         lon  \n",
       "0     37.488120  126.982263  \n",
       "1     37.554346  126.922069  \n",
       "2     37.529723  127.008367  \n",
       "3     37.434939  127.138877  \n",
       "4     37.521560  127.032720  \n",
       "...         ...         ...  \n",
       "3724  37.283530  126.980865  \n",
       "3725  37.485415  126.977617  \n",
       "3726  37.517630  127.089633  \n",
       "3727  37.464091  127.127168  \n",
       "3728  37.482461  126.956358  \n",
       "\n",
       "[3729 rows x 5 columns]"
      ]
     },
     "execution_count": 14,
     "metadata": {},
     "output_type": "execute_result"
    }
   ],
   "source": [
    "img_path_list = []\n",
    "for i in range(15):\n",
    "    path_list = list(test_df[test_df['action']==i]['img_path'])\n",
    "    if len(path_list) >= 300:\n",
    "        tmp = random.sample(path_list, 300)\n",
    "        for i in tmp:\n",
    "            img_path_list.append(i)\n",
    "    else:\n",
    "        for i in path_list:\n",
    "            img_path_list.append(i)\n",
    "df2 = pd.DataFrame(img_path_list)\n",
    "df2.columns = ['img_path']\n",
    "df2\n",
    "\n",
    "path_label_df2 = pd.merge(test_df, df2, on='img_path', how='inner')\n",
    "path_label_df2"
   ]
  },
  {
   "cell_type": "code",
   "execution_count": 15,
   "id": "e2120d4f",
   "metadata": {},
   "outputs": [
    {
     "data": {
      "text/plain": [
       "13    300\n",
       "6     300\n",
       "8     300\n",
       "14    300\n",
       "4     300\n",
       "12    273\n",
       "10    271\n",
       "3     271\n",
       "11    250\n",
       "7     248\n",
       "1     247\n",
       "9     220\n",
       "5     208\n",
       "2     158\n",
       "0      83\n",
       "Name: action, dtype: int64"
      ]
     },
     "execution_count": 15,
     "metadata": {},
     "output_type": "execute_result"
    }
   ],
   "source": [
    "path_label_df2['action'].value_counts()"
   ]
  },
  {
   "cell_type": "code",
   "execution_count": 16,
   "id": "9516f52d",
   "metadata": {},
   "outputs": [],
   "source": [
    "idx1 = path_label_df2[path_label_df2['action'] == 3].index\n",
    "idx2 = path_label_df2[path_label_df2['action'] == 10].index\n",
    "idx3 = path_label_df2[path_label_df2['action'] == 7].index\n",
    "idx4 = path_label_df2[path_label_df2['action'] == 1].index\n",
    "idx5 = path_label_df2[path_label_df2['action'] == 11].index\n",
    "idx6 = path_label_df2[path_label_df2['action'] == 9].index\n",
    "idx7 = path_label_df2[path_label_df2['action'] == 5].index\n",
    "idx8 = path_label_df2[path_label_df2['action'] == 2].index\n",
    "idx9 = path_label_df2[path_label_df2['action'] == 0].index\n",
    "idx10 = path_label_df2[path_label_df2['action'] == 8].index\n",
    "idx11 = path_label_df2[path_label_df2['action'] == 4].index"
   ]
  },
  {
   "cell_type": "code",
   "execution_count": 17,
   "id": "47171e91",
   "metadata": {},
   "outputs": [],
   "source": [
    "path_label_df2 = path_label_df2.drop(index=idx1).drop(index=idx2).drop(index=idx3).drop(index=idx4).drop(index=idx5).drop(index=idx6).drop(index=idx7).drop(index=idx8).drop(index=idx9).drop(index=idx10).drop(index=idx11)"
   ]
  },
  {
   "cell_type": "code",
   "execution_count": 18,
   "id": "0a3b5cd0",
   "metadata": {},
   "outputs": [
    {
     "data": {
      "text/plain": [
       "13    300\n",
       "6     300\n",
       "14    300\n",
       "12    273\n",
       "Name: action, dtype: int64"
      ]
     },
     "execution_count": 18,
     "metadata": {},
     "output_type": "execute_result"
    }
   ],
   "source": [
    "path_label_df2['action'].value_counts()"
   ]
  },
  {
   "cell_type": "code",
   "execution_count": 19,
   "id": "903289c4",
   "metadata": {},
   "outputs": [
    {
     "data": {
      "text/html": [
       "<div>\n",
       "<style scoped>\n",
       "    .dataframe tbody tr th:only-of-type {\n",
       "        vertical-align: middle;\n",
       "    }\n",
       "\n",
       "    .dataframe tbody tr th {\n",
       "        vertical-align: top;\n",
       "    }\n",
       "\n",
       "    .dataframe thead th {\n",
       "        text-align: right;\n",
       "    }\n",
       "</style>\n",
       "<table border=\"1\" class=\"dataframe\">\n",
       "  <thead>\n",
       "    <tr style=\"text-align: right;\">\n",
       "      <th></th>\n",
       "      <th>action</th>\n",
       "      <th>img_path</th>\n",
       "      <th>user_x</th>\n",
       "      <th>lat</th>\n",
       "      <th>lon</th>\n",
       "    </tr>\n",
       "  </thead>\n",
       "  <tbody>\n",
       "    <tr>\n",
       "      <th>0</th>\n",
       "      <td>14</td>\n",
       "      <td>./ETRI_data_RP_png/user03/1600707600/RP/160076...</td>\n",
       "      <td>user03</td>\n",
       "      <td>37.560580</td>\n",
       "      <td>126.980014</td>\n",
       "    </tr>\n",
       "    <tr>\n",
       "      <th>1</th>\n",
       "      <td>14</td>\n",
       "      <td>./ETRI_data_RP_png/user02/1600700400/RP/160076...</td>\n",
       "      <td>user02</td>\n",
       "      <td>37.521518</td>\n",
       "      <td>127.032711</td>\n",
       "    </tr>\n",
       "    <tr>\n",
       "      <th>3</th>\n",
       "      <td>13</td>\n",
       "      <td>./ETRI_data_RP_png/user04/1600207800/RP/160025...</td>\n",
       "      <td>user04</td>\n",
       "      <td>37.475682</td>\n",
       "      <td>127.127883</td>\n",
       "    </tr>\n",
       "    <tr>\n",
       "      <th>10</th>\n",
       "      <td>12</td>\n",
       "      <td>./ETRI_data_RP_png/user09/1600403400/RP/160042...</td>\n",
       "      <td>user09</td>\n",
       "      <td>37.381508</td>\n",
       "      <td>127.230475</td>\n",
       "    </tr>\n",
       "    <tr>\n",
       "      <th>12</th>\n",
       "      <td>13</td>\n",
       "      <td>./ETRI_data_RP_png/user01/1600013400/RP/160005...</td>\n",
       "      <td>user01</td>\n",
       "      <td>37.291015</td>\n",
       "      <td>127.116656</td>\n",
       "    </tr>\n",
       "    <tr>\n",
       "      <th>...</th>\n",
       "      <td>...</td>\n",
       "      <td>...</td>\n",
       "      <td>...</td>\n",
       "      <td>...</td>\n",
       "      <td>...</td>\n",
       "    </tr>\n",
       "    <tr>\n",
       "      <th>43500</th>\n",
       "      <td>6</td>\n",
       "      <td>./ETRI_data_RP_png/user28/1600981200/RP/160098...</td>\n",
       "      <td>user28</td>\n",
       "      <td>37.446439</td>\n",
       "      <td>126.680671</td>\n",
       "    </tr>\n",
       "    <tr>\n",
       "      <th>43502</th>\n",
       "      <td>13</td>\n",
       "      <td>./ETRI_data_RP_png/user04/1600207800/RP/160025...</td>\n",
       "      <td>user04</td>\n",
       "      <td>37.481122</td>\n",
       "      <td>127.142370</td>\n",
       "    </tr>\n",
       "    <tr>\n",
       "      <th>43504</th>\n",
       "      <td>6</td>\n",
       "      <td>./ETRI_data_RP_png/user30/1600474800/RP/160047...</td>\n",
       "      <td>user30</td>\n",
       "      <td>37.492088</td>\n",
       "      <td>126.855853</td>\n",
       "    </tr>\n",
       "    <tr>\n",
       "      <th>43508</th>\n",
       "      <td>14</td>\n",
       "      <td>./ETRI_data_RP_png/user04/1599085500/RP/159909...</td>\n",
       "      <td>user04</td>\n",
       "      <td>37.477714</td>\n",
       "      <td>127.122898</td>\n",
       "    </tr>\n",
       "    <tr>\n",
       "      <th>43512</th>\n",
       "      <td>6</td>\n",
       "      <td>./ETRI_data_RP_png/user28/1600462500/RP/160046...</td>\n",
       "      <td>user28</td>\n",
       "      <td>37.398004</td>\n",
       "      <td>126.634177</td>\n",
       "    </tr>\n",
       "  </tbody>\n",
       "</table>\n",
       "<p>16502 rows × 5 columns</p>\n",
       "</div>"
      ],
      "text/plain": [
       "       action                                           img_path  user_x  \\\n",
       "0          14  ./ETRI_data_RP_png/user03/1600707600/RP/160076...  user03   \n",
       "1          14  ./ETRI_data_RP_png/user02/1600700400/RP/160076...  user02   \n",
       "3          13  ./ETRI_data_RP_png/user04/1600207800/RP/160025...  user04   \n",
       "10         12  ./ETRI_data_RP_png/user09/1600403400/RP/160042...  user09   \n",
       "12         13  ./ETRI_data_RP_png/user01/1600013400/RP/160005...  user01   \n",
       "...       ...                                                ...     ...   \n",
       "43500       6  ./ETRI_data_RP_png/user28/1600981200/RP/160098...  user28   \n",
       "43502      13  ./ETRI_data_RP_png/user04/1600207800/RP/160025...  user04   \n",
       "43504       6  ./ETRI_data_RP_png/user30/1600474800/RP/160047...  user30   \n",
       "43508      14  ./ETRI_data_RP_png/user04/1599085500/RP/159909...  user04   \n",
       "43512       6  ./ETRI_data_RP_png/user28/1600462500/RP/160046...  user28   \n",
       "\n",
       "             lat         lon  \n",
       "0      37.560580  126.980014  \n",
       "1      37.521518  127.032711  \n",
       "3      37.475682  127.127883  \n",
       "10     37.381508  127.230475  \n",
       "12     37.291015  127.116656  \n",
       "...          ...         ...  \n",
       "43500  37.446439  126.680671  \n",
       "43502  37.481122  127.142370  \n",
       "43504  37.492088  126.855853  \n",
       "43508  37.477714  127.122898  \n",
       "43512  37.398004  126.634177  \n",
       "\n",
       "[16502 rows x 5 columns]"
      ]
     },
     "execution_count": 19,
     "metadata": {},
     "output_type": "execute_result"
    }
   ],
   "source": [
    "train_df = path_label_df\n",
    "train_df"
   ]
  },
  {
   "cell_type": "code",
   "execution_count": 20,
   "id": "2392af13",
   "metadata": {},
   "outputs": [
    {
     "data": {
      "text/html": [
       "<div>\n",
       "<style scoped>\n",
       "    .dataframe tbody tr th:only-of-type {\n",
       "        vertical-align: middle;\n",
       "    }\n",
       "\n",
       "    .dataframe tbody tr th {\n",
       "        vertical-align: top;\n",
       "    }\n",
       "\n",
       "    .dataframe thead th {\n",
       "        text-align: right;\n",
       "    }\n",
       "</style>\n",
       "<table border=\"1\" class=\"dataframe\">\n",
       "  <thead>\n",
       "    <tr style=\"text-align: right;\">\n",
       "      <th></th>\n",
       "      <th>action</th>\n",
       "      <th>img_path</th>\n",
       "      <th>user_x</th>\n",
       "      <th>lat</th>\n",
       "      <th>lon</th>\n",
       "    </tr>\n",
       "  </thead>\n",
       "  <tbody>\n",
       "    <tr>\n",
       "      <th>0</th>\n",
       "      <td>13</td>\n",
       "      <td>./ETRI_data_RP_png/user03/1600876800/RP/160090...</td>\n",
       "      <td>user03</td>\n",
       "      <td>37.488120</td>\n",
       "      <td>126.982263</td>\n",
       "    </tr>\n",
       "    <tr>\n",
       "      <th>2</th>\n",
       "      <td>6</td>\n",
       "      <td>./ETRI_data_RP_png/user27/1600309320/RP/160031...</td>\n",
       "      <td>user27</td>\n",
       "      <td>37.529723</td>\n",
       "      <td>127.008367</td>\n",
       "    </tr>\n",
       "    <tr>\n",
       "      <th>5</th>\n",
       "      <td>13</td>\n",
       "      <td>./ETRI_data_RP_png/user04/1600640400/RP/160069...</td>\n",
       "      <td>user04</td>\n",
       "      <td>37.440471</td>\n",
       "      <td>127.146305</td>\n",
       "    </tr>\n",
       "    <tr>\n",
       "      <th>7</th>\n",
       "      <td>12</td>\n",
       "      <td>./ETRI_data_RP_png/user09/1600403400/RP/160041...</td>\n",
       "      <td>user09</td>\n",
       "      <td>37.381511</td>\n",
       "      <td>127.230501</td>\n",
       "    </tr>\n",
       "    <tr>\n",
       "      <th>10</th>\n",
       "      <td>12</td>\n",
       "      <td>./ETRI_data_RP_png/user24/1601081400/RP/160108...</td>\n",
       "      <td>user24</td>\n",
       "      <td>37.707718</td>\n",
       "      <td>126.778399</td>\n",
       "    </tr>\n",
       "    <tr>\n",
       "      <th>...</th>\n",
       "      <td>...</td>\n",
       "      <td>...</td>\n",
       "      <td>...</td>\n",
       "      <td>...</td>\n",
       "      <td>...</td>\n",
       "    </tr>\n",
       "    <tr>\n",
       "      <th>3715</th>\n",
       "      <td>12</td>\n",
       "      <td>./ETRI_data_RP_png/user09/1599609000/RP/159961...</td>\n",
       "      <td>user09</td>\n",
       "      <td>37.387076</td>\n",
       "      <td>127.238506</td>\n",
       "    </tr>\n",
       "    <tr>\n",
       "      <th>3720</th>\n",
       "      <td>14</td>\n",
       "      <td>./ETRI_data_RP_png/user04/1600986000/RP/160101...</td>\n",
       "      <td>user04</td>\n",
       "      <td>37.477689</td>\n",
       "      <td>127.122666</td>\n",
       "    </tr>\n",
       "    <tr>\n",
       "      <th>3724</th>\n",
       "      <td>13</td>\n",
       "      <td>./ETRI_data_RP_png/user03/1599928800/RP/159999...</td>\n",
       "      <td>user03</td>\n",
       "      <td>37.283530</td>\n",
       "      <td>126.980865</td>\n",
       "    </tr>\n",
       "    <tr>\n",
       "      <th>3726</th>\n",
       "      <td>13</td>\n",
       "      <td>./ETRI_data_RP_png/user03/1600448400/RP/160048...</td>\n",
       "      <td>user03</td>\n",
       "      <td>37.517630</td>\n",
       "      <td>127.089633</td>\n",
       "    </tr>\n",
       "    <tr>\n",
       "      <th>3728</th>\n",
       "      <td>12</td>\n",
       "      <td>./ETRI_data_RP_png/user01/1600831800/RP/160086...</td>\n",
       "      <td>user01</td>\n",
       "      <td>37.482461</td>\n",
       "      <td>126.956358</td>\n",
       "    </tr>\n",
       "  </tbody>\n",
       "</table>\n",
       "<p>1173 rows × 5 columns</p>\n",
       "</div>"
      ],
      "text/plain": [
       "      action                                           img_path  user_x  \\\n",
       "0         13  ./ETRI_data_RP_png/user03/1600876800/RP/160090...  user03   \n",
       "2          6  ./ETRI_data_RP_png/user27/1600309320/RP/160031...  user27   \n",
       "5         13  ./ETRI_data_RP_png/user04/1600640400/RP/160069...  user04   \n",
       "7         12  ./ETRI_data_RP_png/user09/1600403400/RP/160041...  user09   \n",
       "10        12  ./ETRI_data_RP_png/user24/1601081400/RP/160108...  user24   \n",
       "...      ...                                                ...     ...   \n",
       "3715      12  ./ETRI_data_RP_png/user09/1599609000/RP/159961...  user09   \n",
       "3720      14  ./ETRI_data_RP_png/user04/1600986000/RP/160101...  user04   \n",
       "3724      13  ./ETRI_data_RP_png/user03/1599928800/RP/159999...  user03   \n",
       "3726      13  ./ETRI_data_RP_png/user03/1600448400/RP/160048...  user03   \n",
       "3728      12  ./ETRI_data_RP_png/user01/1600831800/RP/160086...  user01   \n",
       "\n",
       "            lat         lon  \n",
       "0     37.488120  126.982263  \n",
       "2     37.529723  127.008367  \n",
       "5     37.440471  127.146305  \n",
       "7     37.381511  127.230501  \n",
       "10    37.707718  126.778399  \n",
       "...         ...         ...  \n",
       "3715  37.387076  127.238506  \n",
       "3720  37.477689  127.122666  \n",
       "3724  37.283530  126.980865  \n",
       "3726  37.517630  127.089633  \n",
       "3728  37.482461  126.956358  \n",
       "\n",
       "[1173 rows x 5 columns]"
      ]
     },
     "execution_count": 20,
     "metadata": {},
     "output_type": "execute_result"
    }
   ],
   "source": [
    "test_df = path_label_df2\n",
    "test_df"
   ]
  },
  {
   "cell_type": "code",
   "execution_count": 21,
   "id": "392e1c46",
   "metadata": {},
   "outputs": [],
   "source": [
    "train, val, _, _ = train_test_split(train_df, train_df['action'], test_size=0.1, random_state=CFG['SEED'], stratify=train_df['action'])"
   ]
  },
  {
   "cell_type": "code",
   "execution_count": 22,
   "id": "1df90677",
   "metadata": {},
   "outputs": [
    {
     "data": {
      "text/plain": [
       "13    4500\n",
       "14    4500\n",
       "6     3571\n",
       "12    2280\n",
       "Name: action, dtype: int64"
      ]
     },
     "execution_count": 22,
     "metadata": {},
     "output_type": "execute_result"
    }
   ],
   "source": [
    "train['action'].value_counts()"
   ]
  },
  {
   "cell_type": "code",
   "execution_count": 23,
   "id": "d59303ea",
   "metadata": {},
   "outputs": [
    {
     "data": {
      "text/plain": [
       "14    500\n",
       "13    500\n",
       "6     397\n",
       "12    254\n",
       "Name: action, dtype: int64"
      ]
     },
     "execution_count": 23,
     "metadata": {},
     "output_type": "execute_result"
    }
   ],
   "source": [
    "val['action'].value_counts()"
   ]
  },
  {
   "cell_type": "code",
   "execution_count": 24,
   "id": "72c1b748",
   "metadata": {},
   "outputs": [],
   "source": [
    "# train, val, _, _ = train_test_split(train_df, train_df['action'], test_size=0.1, random_state=CFG['SEED'])"
   ]
  },
  {
   "cell_type": "code",
   "execution_count": 25,
   "id": "20d01d02",
   "metadata": {},
   "outputs": [
    {
     "data": {
      "text/html": [
       "<div>\n",
       "<style scoped>\n",
       "    .dataframe tbody tr th:only-of-type {\n",
       "        vertical-align: middle;\n",
       "    }\n",
       "\n",
       "    .dataframe tbody tr th {\n",
       "        vertical-align: top;\n",
       "    }\n",
       "\n",
       "    .dataframe thead th {\n",
       "        text-align: right;\n",
       "    }\n",
       "</style>\n",
       "<table border=\"1\" class=\"dataframe\">\n",
       "  <thead>\n",
       "    <tr style=\"text-align: right;\">\n",
       "      <th></th>\n",
       "      <th>action</th>\n",
       "      <th>img_path</th>\n",
       "      <th>user_x</th>\n",
       "      <th>lat</th>\n",
       "      <th>lon</th>\n",
       "    </tr>\n",
       "  </thead>\n",
       "  <tbody>\n",
       "    <tr>\n",
       "      <th>3847</th>\n",
       "      <td>12</td>\n",
       "      <td>./ETRI_data_RP_png/user09/1599181560/RP/159919...</td>\n",
       "      <td>user09</td>\n",
       "      <td>37.387097</td>\n",
       "      <td>127.238426</td>\n",
       "    </tr>\n",
       "    <tr>\n",
       "      <th>18192</th>\n",
       "      <td>6</td>\n",
       "      <td>./ETRI_data_RP_png/user03/1600876800/RP/160090...</td>\n",
       "      <td>user03</td>\n",
       "      <td>37.485428</td>\n",
       "      <td>126.977601</td>\n",
       "    </tr>\n",
       "    <tr>\n",
       "      <th>17691</th>\n",
       "      <td>13</td>\n",
       "      <td>./ETRI_data_RP_png/user03/1600106400/RP/160015...</td>\n",
       "      <td>user03</td>\n",
       "      <td>37.493142</td>\n",
       "      <td>126.991031</td>\n",
       "    </tr>\n",
       "    <tr>\n",
       "      <th>10707</th>\n",
       "      <td>13</td>\n",
       "      <td>./ETRI_data_RP_png/user04/1601163000/RP/160117...</td>\n",
       "      <td>user04</td>\n",
       "      <td>37.605284</td>\n",
       "      <td>127.061971</td>\n",
       "    </tr>\n",
       "    <tr>\n",
       "      <th>40527</th>\n",
       "      <td>6</td>\n",
       "      <td>./ETRI_data_RP_png/user30/1599873300/RP/159987...</td>\n",
       "      <td>user30</td>\n",
       "      <td>37.486998</td>\n",
       "      <td>126.853503</td>\n",
       "    </tr>\n",
       "    <tr>\n",
       "      <th>...</th>\n",
       "      <td>...</td>\n",
       "      <td>...</td>\n",
       "      <td>...</td>\n",
       "      <td>...</td>\n",
       "      <td>...</td>\n",
       "    </tr>\n",
       "    <tr>\n",
       "      <th>38311</th>\n",
       "      <td>6</td>\n",
       "      <td>./ETRI_data_RP_png/user26/1599404400/RP/159944...</td>\n",
       "      <td>user26</td>\n",
       "      <td>37.492982</td>\n",
       "      <td>127.028798</td>\n",
       "    </tr>\n",
       "    <tr>\n",
       "      <th>18044</th>\n",
       "      <td>6</td>\n",
       "      <td>./ETRI_data_RP_png/user27/1600309320/RP/160031...</td>\n",
       "      <td>user27</td>\n",
       "      <td>37.529715</td>\n",
       "      <td>127.008362</td>\n",
       "    </tr>\n",
       "    <tr>\n",
       "      <th>18443</th>\n",
       "      <td>6</td>\n",
       "      <td>./ETRI_data_RP_png/user26/1600095600/RP/160015...</td>\n",
       "      <td>user26</td>\n",
       "      <td>37.278514</td>\n",
       "      <td>127.163543</td>\n",
       "    </tr>\n",
       "    <tr>\n",
       "      <th>10521</th>\n",
       "      <td>13</td>\n",
       "      <td>./ETRI_data_RP_png/user03/1600533000/RP/160056...</td>\n",
       "      <td>user03</td>\n",
       "      <td>37.615341</td>\n",
       "      <td>127.485398</td>\n",
       "    </tr>\n",
       "    <tr>\n",
       "      <th>34251</th>\n",
       "      <td>14</td>\n",
       "      <td>./ETRI_data_RP_png/user04/1598828400/RP/159885...</td>\n",
       "      <td>user04</td>\n",
       "      <td>37.477691</td>\n",
       "      <td>127.122701</td>\n",
       "    </tr>\n",
       "  </tbody>\n",
       "</table>\n",
       "<p>14851 rows × 5 columns</p>\n",
       "</div>"
      ],
      "text/plain": [
       "       action                                           img_path  user_x  \\\n",
       "3847       12  ./ETRI_data_RP_png/user09/1599181560/RP/159919...  user09   \n",
       "18192       6  ./ETRI_data_RP_png/user03/1600876800/RP/160090...  user03   \n",
       "17691      13  ./ETRI_data_RP_png/user03/1600106400/RP/160015...  user03   \n",
       "10707      13  ./ETRI_data_RP_png/user04/1601163000/RP/160117...  user04   \n",
       "40527       6  ./ETRI_data_RP_png/user30/1599873300/RP/159987...  user30   \n",
       "...       ...                                                ...     ...   \n",
       "38311       6  ./ETRI_data_RP_png/user26/1599404400/RP/159944...  user26   \n",
       "18044       6  ./ETRI_data_RP_png/user27/1600309320/RP/160031...  user27   \n",
       "18443       6  ./ETRI_data_RP_png/user26/1600095600/RP/160015...  user26   \n",
       "10521      13  ./ETRI_data_RP_png/user03/1600533000/RP/160056...  user03   \n",
       "34251      14  ./ETRI_data_RP_png/user04/1598828400/RP/159885...  user04   \n",
       "\n",
       "             lat         lon  \n",
       "3847   37.387097  127.238426  \n",
       "18192  37.485428  126.977601  \n",
       "17691  37.493142  126.991031  \n",
       "10707  37.605284  127.061971  \n",
       "40527  37.486998  126.853503  \n",
       "...          ...         ...  \n",
       "38311  37.492982  127.028798  \n",
       "18044  37.529715  127.008362  \n",
       "18443  37.278514  127.163543  \n",
       "10521  37.615341  127.485398  \n",
       "34251  37.477691  127.122701  \n",
       "\n",
       "[14851 rows x 5 columns]"
      ]
     },
     "execution_count": 25,
     "metadata": {},
     "output_type": "execute_result"
    }
   ],
   "source": [
    "train"
   ]
  },
  {
   "cell_type": "code",
   "execution_count": 26,
   "id": "ec30f390",
   "metadata": {},
   "outputs": [
    {
     "data": {
      "text/html": [
       "<div>\n",
       "<style scoped>\n",
       "    .dataframe tbody tr th:only-of-type {\n",
       "        vertical-align: middle;\n",
       "    }\n",
       "\n",
       "    .dataframe tbody tr th {\n",
       "        vertical-align: top;\n",
       "    }\n",
       "\n",
       "    .dataframe thead th {\n",
       "        text-align: right;\n",
       "    }\n",
       "</style>\n",
       "<table border=\"1\" class=\"dataframe\">\n",
       "  <thead>\n",
       "    <tr style=\"text-align: right;\">\n",
       "      <th></th>\n",
       "      <th>action</th>\n",
       "      <th>img_path</th>\n",
       "      <th>user_x</th>\n",
       "      <th>lat</th>\n",
       "      <th>lon</th>\n",
       "    </tr>\n",
       "  </thead>\n",
       "  <tbody>\n",
       "    <tr>\n",
       "      <th>117</th>\n",
       "      <td>14</td>\n",
       "      <td>./ETRI_data_RP_png/user01/1600315920/RP/160032...</td>\n",
       "      <td>user01</td>\n",
       "      <td>37.483189</td>\n",
       "      <td>127.012366</td>\n",
       "    </tr>\n",
       "    <tr>\n",
       "      <th>41510</th>\n",
       "      <td>14</td>\n",
       "      <td>./ETRI_data_RP_png/user04/1599522960/RP/159954...</td>\n",
       "      <td>user04</td>\n",
       "      <td>37.477708</td>\n",
       "      <td>127.122379</td>\n",
       "    </tr>\n",
       "    <tr>\n",
       "      <th>13292</th>\n",
       "      <td>6</td>\n",
       "      <td>./ETRI_data_RP_png/user02/1601046000/RP/160110...</td>\n",
       "      <td>user02</td>\n",
       "      <td>37.535390</td>\n",
       "      <td>127.009748</td>\n",
       "    </tr>\n",
       "    <tr>\n",
       "      <th>19143</th>\n",
       "      <td>13</td>\n",
       "      <td>./ETRI_data_RP_png/user04/1599957060/RP/159996...</td>\n",
       "      <td>user04</td>\n",
       "      <td>37.528286</td>\n",
       "      <td>127.007962</td>\n",
       "    </tr>\n",
       "    <tr>\n",
       "      <th>19437</th>\n",
       "      <td>13</td>\n",
       "      <td>./ETRI_data_RP_png/user04/1599859800/RP/159990...</td>\n",
       "      <td>user04</td>\n",
       "      <td>37.521165</td>\n",
       "      <td>127.033618</td>\n",
       "    </tr>\n",
       "    <tr>\n",
       "      <th>...</th>\n",
       "      <td>...</td>\n",
       "      <td>...</td>\n",
       "      <td>...</td>\n",
       "      <td>...</td>\n",
       "      <td>...</td>\n",
       "    </tr>\n",
       "    <tr>\n",
       "      <th>34926</th>\n",
       "      <td>13</td>\n",
       "      <td>./ETRI_data_RP_png/user04/1600122300/RP/160013...</td>\n",
       "      <td>user04</td>\n",
       "      <td>37.500210</td>\n",
       "      <td>127.078394</td>\n",
       "    </tr>\n",
       "    <tr>\n",
       "      <th>19519</th>\n",
       "      <td>14</td>\n",
       "      <td>./ETRI_data_RP_png/user02/1599058800/RP/159911...</td>\n",
       "      <td>user02</td>\n",
       "      <td>37.521215</td>\n",
       "      <td>127.032516</td>\n",
       "    </tr>\n",
       "    <tr>\n",
       "      <th>35983</th>\n",
       "      <td>12</td>\n",
       "      <td>./ETRI_data_RP_png/user09/1599181560/RP/159918...</td>\n",
       "      <td>user09</td>\n",
       "      <td>37.387050</td>\n",
       "      <td>127.238485</td>\n",
       "    </tr>\n",
       "    <tr>\n",
       "      <th>13300</th>\n",
       "      <td>14</td>\n",
       "      <td>./ETRI_data_RP_png/user04/1600558200/RP/160057...</td>\n",
       "      <td>user04</td>\n",
       "      <td>37.434968</td>\n",
       "      <td>127.138871</td>\n",
       "    </tr>\n",
       "    <tr>\n",
       "      <th>11876</th>\n",
       "      <td>14</td>\n",
       "      <td>./ETRI_data_RP_png/user04/1598828400/RP/159885...</td>\n",
       "      <td>user04</td>\n",
       "      <td>37.477675</td>\n",
       "      <td>127.122332</td>\n",
       "    </tr>\n",
       "  </tbody>\n",
       "</table>\n",
       "<p>1651 rows × 5 columns</p>\n",
       "</div>"
      ],
      "text/plain": [
       "       action                                           img_path  user_x  \\\n",
       "117        14  ./ETRI_data_RP_png/user01/1600315920/RP/160032...  user01   \n",
       "41510      14  ./ETRI_data_RP_png/user04/1599522960/RP/159954...  user04   \n",
       "13292       6  ./ETRI_data_RP_png/user02/1601046000/RP/160110...  user02   \n",
       "19143      13  ./ETRI_data_RP_png/user04/1599957060/RP/159996...  user04   \n",
       "19437      13  ./ETRI_data_RP_png/user04/1599859800/RP/159990...  user04   \n",
       "...       ...                                                ...     ...   \n",
       "34926      13  ./ETRI_data_RP_png/user04/1600122300/RP/160013...  user04   \n",
       "19519      14  ./ETRI_data_RP_png/user02/1599058800/RP/159911...  user02   \n",
       "35983      12  ./ETRI_data_RP_png/user09/1599181560/RP/159918...  user09   \n",
       "13300      14  ./ETRI_data_RP_png/user04/1600558200/RP/160057...  user04   \n",
       "11876      14  ./ETRI_data_RP_png/user04/1598828400/RP/159885...  user04   \n",
       "\n",
       "             lat         lon  \n",
       "117    37.483189  127.012366  \n",
       "41510  37.477708  127.122379  \n",
       "13292  37.535390  127.009748  \n",
       "19143  37.528286  127.007962  \n",
       "19437  37.521165  127.033618  \n",
       "...          ...         ...  \n",
       "34926  37.500210  127.078394  \n",
       "19519  37.521215  127.032516  \n",
       "35983  37.387050  127.238485  \n",
       "13300  37.434968  127.138871  \n",
       "11876  37.477675  127.122332  \n",
       "\n",
       "[1651 rows x 5 columns]"
      ]
     },
     "execution_count": 26,
     "metadata": {},
     "output_type": "execute_result"
    }
   ],
   "source": [
    "val"
   ]
  },
  {
   "cell_type": "code",
   "execution_count": null,
   "id": "0b5976ad",
   "metadata": {},
   "outputs": [],
   "source": []
  },
  {
   "cell_type": "code",
   "execution_count": 27,
   "id": "d5c86927",
   "metadata": {},
   "outputs": [],
   "source": [
    "RP_tfms = A.Compose([\n",
    "    A.Resize(width=CFG['IMG_SIZE'], height=CFG['IMG_SIZE']),\n",
    "    A.Normalize()\n",
    "], p=1)"
   ]
  },
  {
   "cell_type": "code",
   "execution_count": 28,
   "id": "83f567a5",
   "metadata": {},
   "outputs": [],
   "source": [
    "Gps_tfms = A.Compose([\n",
    "    A.Resize(width=112, height=112),\n",
    "    A.Normalize()\n",
    "], p=1)"
   ]
  },
  {
   "cell_type": "code",
   "execution_count": 29,
   "id": "f86628c6",
   "metadata": {},
   "outputs": [],
   "source": [
    "class RPDataset(Dataset):\n",
    "    def __init__(self, df, rp_path_list, label_list, tfms=None):\n",
    "        super().__init__()\n",
    "        self.df = df\n",
    "        self.rp_path_list = rp_path_list\n",
    "        self.label_list = label_list\n",
    "        self.tfms = tfms\n",
    "    \n",
    "    def __len__(self):\n",
    "        return len(self.df)\n",
    "    \n",
    "    def __getitem__(self, idx):\n",
    "        img = cv2.imread(self.rp_path_list[idx])\n",
    "        img = cv2.cvtColor(img, cv2.COLOR_BGR2RGB)\n",
    "        image = self.tfms(image=img)['image']\n",
    "        image = torch.tensor(np.array(image)).permute(2, 0, 1)\n",
    "        \n",
    "        if self.label_list is not None:\n",
    "            label = self.label_list[idx]\n",
    "            return image, label\n",
    "        else:\n",
    "            return image"
   ]
  },
  {
   "cell_type": "code",
   "execution_count": 30,
   "id": "4d28b2b2",
   "metadata": {},
   "outputs": [],
   "source": [
    "class GpsDataset(Dataset):\n",
    "    def __init__(self, df, lat_path_list, lon_path_list, label_list, tfms=None):\n",
    "        super(GpsDataset, self).__init__()\n",
    "        self.df = df\n",
    "        self.lat_path_list = lat_path_list\n",
    "        self.lon_path_list = lon_path_list\n",
    "        self.label_list = label_list\n",
    "        self.tfms = tfms\n",
    "\n",
    "    def __len__(self):\n",
    "        return len(self.df)\n",
    "\n",
    "    def __getitem__(self, idx):\n",
    "        lat = self.lat_path_list[idx]\n",
    "        lon = self.lon_path_list[idx]\n",
    "        feature_map = torch.tensor(np.array([lat, lon]))\n",
    "        \n",
    "        if self.label_list is not None:\n",
    "            label = self.label_list[idx]\n",
    "            return feature_map, label\n",
    "        else:\n",
    "            return feature_map"
   ]
  },
  {
   "cell_type": "code",
   "execution_count": 31,
   "id": "0adae7ba",
   "metadata": {},
   "outputs": [],
   "source": [
    "RP_train_dataset = RPDataset(df=train, rp_path_list=train['img_path'].values, label_list=train['action'].values, tfms=RP_tfms)\n",
    "RP_train_loader = DataLoader(RP_train_dataset, batch_size = CFG['BATCH_SIZE'], shuffle=True, num_workers=0)\n",
    "\n",
    "RP_val_dataset = RPDataset(df=val,rp_path_list=val['img_path'].values, label_list=val['action'].values, tfms=RP_tfms)\n",
    "RP_val_loader = DataLoader(RP_val_dataset, batch_size = CFG['BATCH_SIZE'], shuffle=False, num_workers=0)"
   ]
  },
  {
   "cell_type": "code",
   "execution_count": 32,
   "id": "1801d956",
   "metadata": {},
   "outputs": [],
   "source": [
    "Gps_train_dataset = GpsDataset(df=train, lat_path_list=train['lat'].values, lon_path_list=train['lon'].values, label_list=train['action'].values, tfms=Gps_tfms)\n",
    "Gps_train_loader = DataLoader(Gps_train_dataset, batch_size = CFG['BATCH_SIZE'], shuffle=True, num_workers=0)\n",
    "\n",
    "Gps_val_dataset = GpsDataset(df=val, lat_path_list=train['lat'].values, lon_path_list=train['lon'].values, label_list=val['action'].values, tfms=Gps_tfms)\n",
    "Gps_val_loader = DataLoader(Gps_val_dataset, batch_size = CFG['BATCH_SIZE'], shuffle=False, num_workers=0)"
   ]
  },
  {
   "cell_type": "code",
   "execution_count": 33,
   "id": "94f86f91",
   "metadata": {},
   "outputs": [],
   "source": [
    "class FocalLoss(nn.Module):\n",
    "    def __init__(self, weight=None, gamma=2, reduction='mean'):\n",
    "        super(FocalLoss, self).__init__()\n",
    "        self.weight = weight\n",
    "        self.gamma = gamma\n",
    "        self.reduction = reduction\n",
    "\n",
    "    def forward(self, inputs, targets):\n",
    "        ce_loss = F.cross_entropy(inputs, targets, weight=self.weight, reduction=self.reduction)\n",
    "        pt = torch.exp(-ce_loss)\n",
    "        focal_loss = ((1-pt)**self.gamma * ce_loss).mean()\n",
    "        return focal_loss"
   ]
  },
  {
   "cell_type": "code",
   "execution_count": 34,
   "id": "1f5ae148",
   "metadata": {},
   "outputs": [],
   "source": [
    "import torch\n",
    "import torch.nn as nn\n",
    "import torch.nn.functional as F\n",
    "\n",
    "def conv3x3(in_planes, out_planes, stride=1):\n",
    "    return nn.Conv2d(\n",
    "        in_planes,\n",
    "        out_planes,\n",
    "        kernel_size=3,\n",
    "        stride=stride,\n",
    "        bias=False,\n",
    "        padding = 1,\n",
    "        padding_mode='zeros'\n",
    "    )\n",
    "\n",
    "\n",
    "def conv1x1(in_planes, out_planes, stride=1):\n",
    "    return nn.Conv2d(\n",
    "        in_planes,\n",
    "        out_planes,\n",
    "        kernel_size=1,\n",
    "        stride=stride,\n",
    "        bias=False,\n",
    "        padding = 1,\n",
    "        padding_mode='zeros'\n",
    "    )\n",
    "\n",
    "class ChannelAttention(nn.Module):\n",
    "    def __init__(self, channel):\n",
    "        super(ChannelAttention, self).__init__()\n",
    "        self.attention = nn.Sequential(\n",
    "            nn.AdaptiveAvgPool2d(1),\n",
    "            nn.Conv2d(channel, channel, 1, padding=0, bias=False),\n",
    "            nn.ReLU(inplace=True),\n",
    "            nn.Conv2d(channel, channel, 1, padding=0, bias=False),\n",
    "            nn.Sigmoid())\n",
    "    def forward(self, x):\n",
    "        y = self.attention(x)\n",
    "        return x * y\n",
    "    \n",
    "class CAB(nn.Module):\n",
    "    def __init__(self, channel):\n",
    "        super(CAB, self).__init__()\n",
    "        self.cab = nn.Sequential(\n",
    "            nn.Conv2d(channel, channel, kernel_size=3, padding=1, stride=1),\n",
    "            nn.GELU(),\n",
    "            nn.Conv2d(channel, channel, kernel_size=3, padding=1, stride=1),\n",
    "            ChannelAttention(channel)\n",
    "            )\n",
    "    def forward(self, x):\n",
    "        return self.cab(x)\n",
    "\n",
    "\n",
    "class IdentityBlock(nn.Module):\n",
    "    def __init__(self, in_planes, out_planes, stride = 1):\n",
    "        super(IdentityBlock, self).__init__()\n",
    "\n",
    "        self.conv1 = conv3x3(in_planes, out_planes, stride)\n",
    "#         self.cab = CAB(out_planes)\n",
    "        self.conv2 = conv3x3(out_planes, out_planes, 1)\n",
    "\n",
    "        self.bn1   = nn.BatchNorm2d(out_planes)\n",
    "        self.bn2   = nn.BatchNorm2d(out_planes)\n",
    "\n",
    "        self.shortcut = nn.Sequential()\n",
    "        if stride != 1:\n",
    "            self.shortcut = nn.Sequential(\n",
    "                conv1x1(in_planes, out_planes, stride),\n",
    "                nn.BatchNorm2d(out_planes)\n",
    "            )\n",
    "\n",
    "    def forward(self, x):\n",
    "        identity = x\n",
    "        out = self.conv1(x)\n",
    "        out = self.bn1(out)\n",
    "        out = F.relu(out)\n",
    "        out  = self.conv2(out)\n",
    "#         out = self.cab(out)\n",
    "        out  = self.bn2(out)\n",
    "        out += identity\n",
    "        out = F.relu(out)\n",
    "        return out\n",
    "\n",
    "\n",
    "class ResNet(nn.Module):\n",
    "    def __init__(self, block, in_planes, num_blocks, num_classes):\n",
    "        super(ResNet, self).__init__()\n",
    "\n",
    "        self.in_planes = in_planes\n",
    "\n",
    "#         self.conv = nn.Conv2d(3, in_planes, kernel_size = 3, stride = 1, padding = 1, padding_mode='zeros', bias=False)\n",
    "        self.conv = nn.Conv2d(3, 32, kernel_size = 3, stride = 1, padding = 3, padding_mode='zeros', bias=False)\n",
    "        self.cab = CAB(in_planes)\n",
    "#         self.bn = nn.BatchNorm2d(self.in_planes)\n",
    "        self.bn = nn.BatchNorm2d(32)\n",
    "#         self.maxpool = nn.MaxPool2d(kernel_size=3, stride=2, padding=1)\n",
    "        self.maxpool = nn.MaxPool2d(kernel_size=2, stride=2)\n",
    "\n",
    "        self.layer1 = self.make_layer(block, in_planes, num_blocks[0], stride=1)\n",
    "        self.layer2 = self.make_layer(block, in_planes, num_blocks[1], stride=1)\n",
    "        self.layer3 = self.make_layer(block, in_planes, num_blocks[2], stride=1)\n",
    "        self.layer4 = self.make_layer(block, in_planes, num_blocks[3], stride=1)\n",
    "\n",
    "        self.avgpool = nn.AdaptiveAvgPool2d((1, 1))\n",
    "        self.linear  = nn.Linear(in_planes + 2, num_classes)\n",
    "\n",
    "    def make_layer(self, block, out_planes, num_blocks, stride):\n",
    "            strides = [stride] + [1] * (num_blocks -1)\n",
    "            layers = []\n",
    "            for stride in strides:\n",
    "                layers.append(block(self.in_planes, out_planes))\n",
    "                self.in_planes = out_planes\n",
    "            return nn.Sequential(*layers)\n",
    "\n",
    "    def forward(self, x, g):\n",
    "        out = self.conv(x)\n",
    "        out = self.cab(out)\n",
    "        out = self.bn(out)\n",
    "        out = F.relu(out)\n",
    "        out = self.maxpool(out)\n",
    "        out = self.layer1(out)\n",
    "        out = self.layer2(out)\n",
    "        out = self.layer3(out)\n",
    "        out = self.layer4(out)\n",
    "        out = self.avgpool(out)\n",
    "#         print(out.shape)\n",
    "        g = g.unsqueeze(-1).unsqueeze(-1)\n",
    "        g = g.expand(-1, -1, 1, 1).float()\n",
    "#         g = self.avgpool(g)\n",
    "#         print(g.shape)\n",
    "        out = torch.cat((out, g), dim=1)\n",
    "        out = torch.flatten(out, 1)\n",
    "        out = self.linear(out)\n",
    "        return out\n",
    "\n",
    "\n",
    "def ResNet18(in_planes, num_classes):\n",
    "    return ResNet(block = IdentityBlock, in_planes = in_planes, num_blocks = [2, 2, 2, 2], num_classes = num_classes)"
   ]
  },
  {
   "cell_type": "code",
   "execution_count": 35,
   "id": "ad680a64",
   "metadata": {},
   "outputs": [],
   "source": [
    "import torch\n",
    "import torch.nn as nn\n",
    "import torch.nn.functional as F\n",
    "\n",
    "in_planes = 64\n",
    "num_classes = 15\n",
    "\n",
    "def conv3x3(in_planes, out_planes, stride=1):\n",
    "    return nn.Conv2d(\n",
    "        in_planes,\n",
    "        out_planes,\n",
    "        kernel_size=3,\n",
    "        stride=stride,\n",
    "        bias=False,\n",
    "        padding = 1,\n",
    "        padding_mode='zeros'\n",
    "    )\n",
    "\n",
    "\n",
    "class Residual(nn.Module):\n",
    "    def __init__(self, numIn, numOut, stride = 1):\n",
    "        super(Residual, self).__init__()\n",
    "        self.numIn = numIn\n",
    "        self.numOut = numOut\n",
    "        self.stride = stride\n",
    "        self.conv1 = nn.Conv2d(self.numIn, self.numOut, bias = False, kernel_size = 3,stride = self.stride,padding = 1)\n",
    "        self.bn1 = nn.BatchNorm2d(self.numOut)\n",
    "        self.relu = nn.ReLU(inplace = True)\n",
    "        self.conv2 = nn.Conv2d(self.numOut, self.numOut, bias = False, kernel_size = 3, stride = self.stride, padding = 1)\n",
    "        self.bn2 = nn.BatchNorm2d(self.numOut)\n",
    "        \n",
    "        if self.numIn != self.numOut:\n",
    "            self.conv4 = nn.Conv2d(self.numIn, self.numOut, bias = True, kernel_size = 1)\n",
    "            \n",
    "    def forward(self, x):\n",
    "        residual = x\n",
    "        out = self.conv1(x)\n",
    "        out = self.bn1(out)\n",
    "        out = self.relu(out)\n",
    "        \n",
    "        out = self.conv2(out)\n",
    "        out = self.bn2(out)\n",
    "        out = self.relu(out)\n",
    "        \n",
    "        if self.numIn != self.numOut:\n",
    "            residual = self.conv4(x)\n",
    "        \n",
    "        return out + residual\n",
    "    \n",
    "class CAB(nn.Module):\n",
    "    def __init__(self, channel):\n",
    "        super(CAB, self).__init__()\n",
    "        self.cab = nn.Sequential(\n",
    "            nn.Conv2d(channel, channel, kernel_size=3, padding=1, stride=1),\n",
    "            nn.GELU(),\n",
    "            nn.Conv2d(channel, channel, kernel_size=3, padding=1, stride=1),\n",
    "            ChannelAttention(channel)\n",
    "            )\n",
    "    def forward(self, x):\n",
    "        return self.cab(x)\n",
    "    \n",
    "\n",
    "class  ResNet_CAM(nn.Module):\n",
    "    def __init__(self,nOut):\n",
    "        super(ResNet_CAM, self).__init__()\n",
    "        self.cab1 = CAB(32)\n",
    "        self.cab2 = CAB(34)\n",
    "        self.nOut = nOut\n",
    "        self.conv1 = nn.Conv2d(3, 32, kernel_size = 3, stride = 1, padding = 3,bias = False)#320\n",
    "        self.conv2 = conv3x3(34, 34, 1)\n",
    "        self.bn1 = nn.BatchNorm2d(32)\n",
    "        self.relu = nn.ReLU(inplace = True)\n",
    "        self.maxpool = nn.MaxPool2d(kernel_size = 2, stride = 2)\n",
    "        self.res1 = Residual(32,32)\n",
    "        self.res2 = Residual(32,32)\n",
    "        \n",
    "        self.res3 = Residual(32,32)\n",
    "        self.res4 = Residual(32,32)\n",
    "        \n",
    "        self.res5 = Residual(32,32)\n",
    "        self.res6 = Residual(32,32)\n",
    "        \n",
    "        self.avgpool = nn.AdaptiveAvgPool2d((1, 1))\n",
    "        self.linear  = nn.Linear(in_planes//2 + 2, num_classes)\n",
    "        \n",
    "        self.lr1 = nn.Linear(64*16*16,256)\n",
    "        self.gap = nn.AvgPool2d(kernel_size = 14, stride = 1)\n",
    "        self.lr1 = nn.Linear(32,nOut)\n",
    "        self.lr2 = nn.Linear(256,nOut)\n",
    "\n",
    "    def forward(self, out, g):#Bx3X224x224\n",
    "        out = self.conv1(out)#Bx64x224x224\n",
    "        out = self.cab1(out)\n",
    "        out = self.bn1(out)\n",
    "        out = self.relu(out)\n",
    "        out = self.maxpool(out)#Bx64x112x112\n",
    "        out = self.res1(out)\n",
    "        out = self.res2(out)\n",
    "        out = self.maxpool(out)#Bx64x56x56\n",
    "        out = self.res3(out)\n",
    "        out = self.res4(out)\n",
    "        out = self.maxpool(out)#Bx64x28x28\n",
    "        out = self.res5(out)\n",
    "        out = self.res6(out)\n",
    "        out = self.maxpool(out)#Bx64x14x14\n",
    "        out = self.avgpool(out)\n",
    "#         print(out.shape)\n",
    "        g = g.unsqueeze(-1).unsqueeze(-1)\n",
    "        g = g.expand(-1, -1, 1, 1).float()\n",
    "        out = torch.cat((out, g), dim=1)\n",
    "#         print(out.shape)\n",
    "        out = self.cab2(out)\n",
    "#         print(out.shape)\n",
    "        out = torch.flatten(out, 1)\n",
    "        out = self.linear(out)\n",
    "            \n",
    "        return out\n",
    "\n",
    "    \n",
    "class ResNet(nn.Module):\n",
    "    def __init__(self, in_planes, num_classes):\n",
    "        super(ResNet, self).__init__()\n",
    "        self.in_planes = in_planes\n",
    "        self.conv = nn.Conv2d(3, self.in_planes, kernel_size = 3, stride = 1, padding = 1, padding_mode='zeros', bias=False)\n",
    "        self.cab = CAB(in_planes)\n",
    "        self.bn = nn.BatchNorm2d(self.in_planes)\n",
    "        self.relu = nn.ReLU(inplace = True)\n",
    "        self.res1 = Residual(in_planes,in_planes)\n",
    "        self.res2 = Residual(in_planes,in_planes)\n",
    "        self.res3 = Residual(in_planes,in_planes)\n",
    "        self.res4 = Residual(in_planes,in_planes)\n",
    "        self.res5 = Residual(in_planes,in_planes)\n",
    "        self.res6 = Residual(in_planes,in_planes)\n",
    "        self.maxpool = nn.MaxPool2d(kernel_size=2, stride=2)\n",
    "        self.avgpool = nn.AdaptiveAvgPool2d((1, 1))\n",
    "        self.linear  = nn.Linear(in_planes + 2, num_classes)\n",
    "\n",
    "    def forward(self, x, g):\n",
    "        out = self.conv(x)\n",
    "        out = self.cab(out)\n",
    "        out = self.bn(out)\n",
    "        out = self.relu(out)\n",
    "        out = self.maxpool(out)\n",
    "        out = self.res1(out)\n",
    "        out = self.res2(out)\n",
    "        out = self.maxpool(out)\n",
    "        out = self.res3(out)\n",
    "        out = self.res4(out)\n",
    "        out = self.maxpool(out)\n",
    "        out = self.res5(out)\n",
    "        out = self.res6(out)\n",
    "        out = self.maxpool(out)\n",
    "        out = self.avgpool(out)\n",
    "        g = g.unsqueeze(-1).unsqueeze(-1)\n",
    "        g = g.expand(-1, -1, 1, 1).float()\n",
    "        out = torch.cat((out, g), dim=1)\n",
    "        out = torch.flatten(out, 1)\n",
    "        out = self.linear(out)\n",
    "        return out"
   ]
  },
  {
   "cell_type": "code",
   "execution_count": 36,
   "id": "3eb09fa1",
   "metadata": {},
   "outputs": [],
   "source": [
    "def validation(model, criterion, device):\n",
    "    model.eval()\n",
    "    val_loss = []\n",
    "    preds, trues = [], []\n",
    "    \n",
    "    with torch.no_grad():\n",
    "        for i, data in enumerate(zip(tqdm(RP_val_loader), Gps_val_loader)):\n",
    "            data1, data2 = data\n",
    "            images, labels = data1\n",
    "            gps, _ = data2\n",
    "            \n",
    "            images = images.to(device)\n",
    "            gps = gps.to(device)\n",
    "            labels = labels.to(device)\n",
    "            \n",
    "            logit = model(images, gps)\n",
    "            \n",
    "            loss = criterion(logit, labels)\n",
    "            \n",
    "            val_loss.append(loss.item())\n",
    "            \n",
    "            preds += logit.argmax(1).detach().cpu().numpy().tolist()\n",
    "            trues += labels.detach().cpu().numpy().tolist()\n",
    "        \n",
    "        _val_loss = np.mean(val_loss)\n",
    "    \n",
    "    _val_score = f1_score(trues, preds, average='micro')\n",
    "    return _val_loss, _val_score"
   ]
  },
  {
   "cell_type": "code",
   "execution_count": 37,
   "id": "d3724661",
   "metadata": {},
   "outputs": [],
   "source": [
    "def train(model, optimizer, scheduler, device):\n",
    "    model.to(device)\n",
    "#     criterion = FocalLoss().to(device)\n",
    "    criterion = nn.CrossEntropyLoss().to(device)\n",
    "    \n",
    "    best_val_score = 0\n",
    "    best_model = None\n",
    "    \n",
    "    for epoch in range(1, CFG['EPOCHS']+1):\n",
    "        model.train()\n",
    "        train_loss = []\n",
    "        \n",
    "        val_loss = []\n",
    "        preds, trues = [], []\n",
    "    \n",
    "        for i, data in enumerate(zip(tqdm(RP_train_loader), Gps_train_loader)):\n",
    "            data1, data2 = data\n",
    "            images, labels = data1\n",
    "            gps, _ = data2\n",
    "            \n",
    "            images = images.to(device)\n",
    "            gps = gps.to(device)\n",
    "            labels = labels.to(device)\n",
    "            \n",
    "            optimizer.zero_grad()\n",
    "            \n",
    "            output = model(images, gps)\n",
    "            loss = criterion(output, labels)\n",
    "            \n",
    "            loss.backward()\n",
    "            optimizer.step()\n",
    "            \n",
    "            train_loss.append(loss.item())\n",
    "            \n",
    "        model.eval()\n",
    "    \n",
    "        with torch.no_grad():\n",
    "            for i, data in enumerate(zip(tqdm(RP_val_loader), Gps_val_loader)):\n",
    "                data1, data2 = data\n",
    "                images, labels = data1\n",
    "                gps, _ = data2\n",
    "\n",
    "                images = images.to(device)\n",
    "                gps = gps.to(device)\n",
    "                labels = labels.to(device)\n",
    "\n",
    "                logit = model(images, gps)\n",
    "\n",
    "                loss = criterion(logit, labels)\n",
    "\n",
    "                val_loss.append(loss.item())\n",
    "\n",
    "                preds += logit.argmax(1).detach().cpu().numpy().tolist()\n",
    "                trues += labels.detach().cpu().numpy().tolist()\n",
    "\n",
    "            _val_loss = np.mean(val_loss)\n",
    "\n",
    "        _val_score = f1_score(trues, preds, average='micro')\n",
    "\n",
    "        _train_loss = np.mean(train_loss)\n",
    "        print(f'Epoch [{epoch}], Train Loss : [{_train_loss:.5f}] Val Loss : [{_val_loss:.5f}] Val F1 : [{_val_score:.5f}]')\n",
    "        \n",
    "        if scheduler is not None:\n",
    "            scheduler.step(_val_score)\n",
    "            \n",
    "        if best_val_score < _val_score:\n",
    "            best_val_score = _val_score\n",
    "            best_model = model\n",
    "            \n",
    "            torch.save({\n",
    "            'epoch': epoch,\n",
    "            'model_state_dict': model.state_dict(),\n",
    "            'optimizer_state_dict': optimizer.state_dict(),\n",
    "            'loss': _val_loss,\n",
    "            }, 'save_model/0426_model.pth')\n",
    "\n",
    "    \n",
    "    return best_model"
   ]
  },
  {
   "cell_type": "code",
   "execution_count": null,
   "id": "1822c2eb",
   "metadata": {
    "scrolled": false
   },
   "outputs": [
    {
     "name": "stderr",
     "output_type": "stream",
     "text": [
      "100%|████████████████████████████████████████████████████████████████| 465/465 [03:01<00:00,  2.57it/s]\n",
      "100%|██████████████████████████████████████████████████████████████████| 52/52 [00:12<00:00,  4.17it/s]\n"
     ]
    },
    {
     "name": "stdout",
     "output_type": "stream",
     "text": [
      "Epoch [1], Train Loss : [1.77809] Val Loss : [1.23086] Val F1 : [0.46517]\n"
     ]
    },
    {
     "name": "stderr",
     "output_type": "stream",
     "text": [
      "100%|████████████████████████████████████████████████████████████████| 465/465 [02:54<00:00,  2.67it/s]\n",
      "100%|██████████████████████████████████████████████████████████████████| 52/52 [00:11<00:00,  4.61it/s]\n"
     ]
    },
    {
     "name": "stdout",
     "output_type": "stream",
     "text": [
      "Epoch [2], Train Loss : [1.13381] Val Loss : [1.19012] Val F1 : [0.50151]\n"
     ]
    },
    {
     "name": "stderr",
     "output_type": "stream",
     "text": [
      "100%|████████████████████████████████████████████████████████████████| 465/465 [02:54<00:00,  2.67it/s]\n",
      "100%|██████████████████████████████████████████████████████████████████| 52/52 [00:11<00:00,  4.50it/s]\n"
     ]
    },
    {
     "name": "stdout",
     "output_type": "stream",
     "text": [
      "Epoch [3], Train Loss : [1.08825] Val Loss : [1.15203] Val F1 : [0.53664]\n"
     ]
    },
    {
     "name": "stderr",
     "output_type": "stream",
     "text": [
      "100%|████████████████████████████████████████████████████████████████| 465/465 [02:53<00:00,  2.68it/s]\n",
      "100%|██████████████████████████████████████████████████████████████████| 52/52 [00:11<00:00,  4.53it/s]\n"
     ]
    },
    {
     "name": "stdout",
     "output_type": "stream",
     "text": [
      "Epoch [4], Train Loss : [1.03790] Val Loss : [1.04930] Val F1 : [0.57117]\n"
     ]
    },
    {
     "name": "stderr",
     "output_type": "stream",
     "text": [
      "100%|████████████████████████████████████████████████████████████████| 465/465 [02:53<00:00,  2.68it/s]\n",
      "100%|██████████████████████████████████████████████████████████████████| 52/52 [00:11<00:00,  4.58it/s]\n"
     ]
    },
    {
     "name": "stdout",
     "output_type": "stream",
     "text": [
      "Epoch [5], Train Loss : [1.00296] Val Loss : [1.09409] Val F1 : [0.54755]\n"
     ]
    },
    {
     "name": "stderr",
     "output_type": "stream",
     "text": [
      "100%|████████████████████████████████████████████████████████████████| 465/465 [03:00<00:00,  2.57it/s]\n",
      "100%|██████████████████████████████████████████████████████████████████| 52/52 [00:11<00:00,  4.60it/s]\n"
     ]
    },
    {
     "name": "stdout",
     "output_type": "stream",
     "text": [
      "Epoch [6], Train Loss : [0.97873] Val Loss : [1.23546] Val F1 : [0.54452]\n"
     ]
    },
    {
     "name": "stderr",
     "output_type": "stream",
     "text": [
      "100%|████████████████████████████████████████████████████████████████| 465/465 [02:57<00:00,  2.62it/s]\n",
      "100%|██████████████████████████████████████████████████████████████████| 52/52 [00:11<00:00,  4.41it/s]\n"
     ]
    },
    {
     "name": "stdout",
     "output_type": "stream",
     "text": [
      "Epoch [7], Train Loss : [0.96374] Val Loss : [1.06162] Val F1 : [0.56693]\n",
      "Epoch 00007: reducing learning rate of group 0 to 5.0000e-04.\n"
     ]
    },
    {
     "name": "stderr",
     "output_type": "stream",
     "text": [
      "100%|████████████████████████████████████████████████████████████████| 465/465 [02:56<00:00,  2.63it/s]\n",
      "100%|██████████████████████████████████████████████████████████████████| 52/52 [00:11<00:00,  4.64it/s]\n"
     ]
    },
    {
     "name": "stdout",
     "output_type": "stream",
     "text": [
      "Epoch [8], Train Loss : [0.87688] Val Loss : [1.02253] Val F1 : [0.58692]\n"
     ]
    },
    {
     "name": "stderr",
     "output_type": "stream",
     "text": [
      "100%|████████████████████████████████████████████████████████████████| 465/465 [02:53<00:00,  2.68it/s]\n",
      "100%|██████████████████████████████████████████████████████████████████| 52/52 [00:11<00:00,  4.55it/s]\n"
     ]
    },
    {
     "name": "stdout",
     "output_type": "stream",
     "text": [
      "Epoch [9], Train Loss : [0.85081] Val Loss : [0.97213] Val F1 : [0.60751]\n"
     ]
    },
    {
     "name": "stderr",
     "output_type": "stream",
     "text": [
      "100%|████████████████████████████████████████████████████████████████| 465/465 [02:53<00:00,  2.69it/s]\n",
      "100%|██████████████████████████████████████████████████████████████████| 52/52 [00:11<00:00,  4.64it/s]\n"
     ]
    },
    {
     "name": "stdout",
     "output_type": "stream",
     "text": [
      "Epoch [10], Train Loss : [0.82278] Val Loss : [1.00871] Val F1 : [0.59419]\n"
     ]
    },
    {
     "name": "stderr",
     "output_type": "stream",
     "text": [
      "100%|████████████████████████████████████████████████████████████████| 465/465 [02:53<00:00,  2.68it/s]\n",
      "100%|██████████████████████████████████████████████████████████████████| 52/52 [00:11<00:00,  4.66it/s]\n"
     ]
    },
    {
     "name": "stdout",
     "output_type": "stream",
     "text": [
      "Epoch [11], Train Loss : [0.79129] Val Loss : [0.93028] Val F1 : [0.62023]\n"
     ]
    },
    {
     "name": "stderr",
     "output_type": "stream",
     "text": [
      "100%|████████████████████████████████████████████████████████████████| 465/465 [02:52<00:00,  2.69it/s]\n",
      "100%|██████████████████████████████████████████████████████████████████| 52/52 [00:11<00:00,  4.64it/s]\n"
     ]
    },
    {
     "name": "stdout",
     "output_type": "stream",
     "text": [
      "Epoch [12], Train Loss : [0.75551] Val Loss : [0.95859] Val F1 : [0.62810]\n"
     ]
    },
    {
     "name": "stderr",
     "output_type": "stream",
     "text": [
      "100%|████████████████████████████████████████████████████████████████| 465/465 [02:52<00:00,  2.69it/s]\n",
      "100%|██████████████████████████████████████████████████████████████████| 52/52 [00:11<00:00,  4.40it/s]\n"
     ]
    },
    {
     "name": "stdout",
     "output_type": "stream",
     "text": [
      "Epoch [13], Train Loss : [0.71492] Val Loss : [1.26379] Val F1 : [0.57177]\n"
     ]
    },
    {
     "name": "stderr",
     "output_type": "stream",
     "text": [
      "100%|████████████████████████████████████████████████████████████████| 465/465 [02:52<00:00,  2.70it/s]\n",
      "100%|██████████████████████████████████████████████████████████████████| 52/52 [00:12<00:00,  4.30it/s]\n"
     ]
    },
    {
     "name": "stdout",
     "output_type": "stream",
     "text": [
      "Epoch [14], Train Loss : [0.67729] Val Loss : [1.35091] Val F1 : [0.54997]\n"
     ]
    },
    {
     "name": "stderr",
     "output_type": "stream",
     "text": [
      "100%|████████████████████████████████████████████████████████████████| 465/465 [02:53<00:00,  2.68it/s]\n",
      "100%|██████████████████████████████████████████████████████████████████| 52/52 [00:11<00:00,  4.54it/s]\n"
     ]
    },
    {
     "name": "stdout",
     "output_type": "stream",
     "text": [
      "Epoch [15], Train Loss : [0.63484] Val Loss : [1.14847] Val F1 : [0.57238]\n",
      "Epoch 00015: reducing learning rate of group 0 to 2.5000e-04.\n"
     ]
    },
    {
     "name": "stderr",
     "output_type": "stream",
     "text": [
      "100%|████████████████████████████████████████████████████████████████| 465/465 [02:53<00:00,  2.68it/s]\n",
      "100%|██████████████████████████████████████████████████████████████████| 52/52 [00:11<00:00,  4.60it/s]\n"
     ]
    },
    {
     "name": "stdout",
     "output_type": "stream",
     "text": [
      "Epoch [16], Train Loss : [0.49270] Val Loss : [1.08860] Val F1 : [0.59055]\n"
     ]
    },
    {
     "name": "stderr",
     "output_type": "stream",
     "text": [
      "100%|████████████████████████████████████████████████████████████████| 465/465 [02:55<00:00,  2.65it/s]\n",
      "100%|██████████████████████████████████████████████████████████████████| 52/52 [00:11<00:00,  4.57it/s]\n"
     ]
    },
    {
     "name": "stdout",
     "output_type": "stream",
     "text": [
      "Epoch [17], Train Loss : [0.42286] Val Loss : [1.04306] Val F1 : [0.61236]\n"
     ]
    },
    {
     "name": "stderr",
     "output_type": "stream",
     "text": [
      "100%|████████████████████████████████████████████████████████████████| 465/465 [02:53<00:00,  2.68it/s]\n",
      "100%|██████████████████████████████████████████████████████████████████| 52/52 [00:11<00:00,  4.50it/s]\n"
     ]
    },
    {
     "name": "stdout",
     "output_type": "stream",
     "text": [
      "Epoch [18], Train Loss : [0.37533] Val Loss : [1.18195] Val F1 : [0.59903]\n",
      "Epoch 00018: reducing learning rate of group 0 to 1.2500e-04.\n"
     ]
    },
    {
     "name": "stderr",
     "output_type": "stream",
     "text": [
      "100%|████████████████████████████████████████████████████████████████| 465/465 [02:53<00:00,  2.68it/s]\n",
      "100%|██████████████████████████████████████████████████████████████████| 52/52 [00:11<00:00,  4.41it/s]\n"
     ]
    },
    {
     "name": "stdout",
     "output_type": "stream",
     "text": [
      "Epoch [19], Train Loss : [0.27324] Val Loss : [1.21450] Val F1 : [0.60872]\n"
     ]
    },
    {
     "name": "stderr",
     "output_type": "stream",
     "text": [
      "100%|████████████████████████████████████████████████████████████████| 465/465 [02:53<00:00,  2.68it/s]\n",
      "100%|██████████████████████████████████████████████████████████████████| 52/52 [00:11<00:00,  4.37it/s]\n"
     ]
    },
    {
     "name": "stdout",
     "output_type": "stream",
     "text": [
      "Epoch [20], Train Loss : [0.23898] Val Loss : [1.20299] Val F1 : [0.61175]\n"
     ]
    },
    {
     "name": "stderr",
     "output_type": "stream",
     "text": [
      "100%|████████████████████████████████████████████████████████████████| 465/465 [02:53<00:00,  2.68it/s]\n",
      "100%|██████████████████████████████████████████████████████████████████| 52/52 [00:11<00:00,  4.63it/s]\n"
     ]
    },
    {
     "name": "stdout",
     "output_type": "stream",
     "text": [
      "Epoch [21], Train Loss : [0.20775] Val Loss : [1.34495] Val F1 : [0.60448]\n",
      "Epoch 00021: reducing learning rate of group 0 to 6.2500e-05.\n"
     ]
    },
    {
     "name": "stderr",
     "output_type": "stream",
     "text": [
      "100%|████████████████████████████████████████████████████████████████| 465/465 [02:53<00:00,  2.68it/s]\n",
      "100%|██████████████████████████████████████████████████████████████████| 52/52 [00:11<00:00,  4.54it/s]\n"
     ]
    },
    {
     "name": "stdout",
     "output_type": "stream",
     "text": [
      "Epoch [22], Train Loss : [0.16507] Val Loss : [1.23108] Val F1 : [0.60630]\n"
     ]
    },
    {
     "name": "stderr",
     "output_type": "stream",
     "text": [
      "100%|████████████████████████████████████████████████████████████████| 465/465 [02:52<00:00,  2.69it/s]\n",
      "100%|██████████████████████████████████████████████████████████████████| 52/52 [00:11<00:00,  4.60it/s]\n"
     ]
    },
    {
     "name": "stdout",
     "output_type": "stream",
     "text": [
      "Epoch [23], Train Loss : [0.14996] Val Loss : [1.32282] Val F1 : [0.61054]\n"
     ]
    },
    {
     "name": "stderr",
     "output_type": "stream",
     "text": [
      "100%|████████████████████████████████████████████████████████████████| 465/465 [02:53<00:00,  2.67it/s]\n",
      "100%|██████████████████████████████████████████████████████████████████| 52/52 [00:11<00:00,  4.54it/s]\n"
     ]
    },
    {
     "name": "stdout",
     "output_type": "stream",
     "text": [
      "Epoch [24], Train Loss : [0.13636] Val Loss : [1.37960] Val F1 : [0.59479]\n",
      "Epoch 00024: reducing learning rate of group 0 to 3.1250e-05.\n"
     ]
    },
    {
     "name": "stderr",
     "output_type": "stream",
     "text": [
      "100%|████████████████████████████████████████████████████████████████| 465/465 [02:52<00:00,  2.69it/s]\n",
      "100%|██████████████████████████████████████████████████████████████████| 52/52 [00:11<00:00,  4.38it/s]\n"
     ]
    },
    {
     "name": "stdout",
     "output_type": "stream",
     "text": [
      "Epoch [25], Train Loss : [0.12061] Val Loss : [1.31870] Val F1 : [0.59600]\n"
     ]
    },
    {
     "name": "stderr",
     "output_type": "stream",
     "text": [
      "100%|████████████████████████████████████████████████████████████████| 465/465 [02:54<00:00,  2.66it/s]\n",
      "100%|██████████████████████████████████████████████████████████████████| 52/52 [00:12<00:00,  4.32it/s]\n"
     ]
    },
    {
     "name": "stdout",
     "output_type": "stream",
     "text": [
      "Epoch [26], Train Loss : [0.11365] Val Loss : [1.39554] Val F1 : [0.58995]\n"
     ]
    },
    {
     "name": "stderr",
     "output_type": "stream",
     "text": [
      " 97%|██████████████████████████████████████████████████████████████  | 451/465 [02:54<00:05,  2.45it/s]"
     ]
    }
   ],
   "source": [
    "# model = resnet.ResNet18(64, 15)\n",
    "# model = ResNet18(64, 15)\n",
    "model = ResNet(64, 15)\n",
    "# model = models.resnet18(pretrained=True)\n",
    "# num_ftrs = model.fc.in_features\n",
    "# model.fc = nn.Linear(num_ftrs, 15)\n",
    "model = model.to(device)\n",
    "model.eval()\n",
    "optimizer = torch.optim.Adam(params = model.parameters(), lr = CFG[\"LEARNING_RATE\"])\n",
    "scheduler = torch.optim.lr_scheduler.ReduceLROnPlateau(optimizer, mode='max', factor=0.5, patience=2,threshold_mode='abs',min_lr=1e-8, verbose=True)\n",
    "\n",
    "infer_model = train(model, optimizer, scheduler, device)"
   ]
  },
  {
   "cell_type": "code",
   "execution_count": null,
   "id": "ca96d9da",
   "metadata": {},
   "outputs": [],
   "source": [
    "RP_test_dataset = RPDataset(df=test_df, rp_path_list=test_df['img_path'].values, label_list=test_df['action'].values, tfms=RP_tfms)\n",
    "RP_test_loader = DataLoader(RP_test_dataset, batch_size = CFG['BATCH_SIZE'], shuffle=False, num_workers=0)\n",
    "\n",
    "Gps_test_dataset = GpsDataset(df=test_df, lat_path_list=test_df['lat'].values, lon_path_list=test_df['lon'].values, label_list=test_df['action'].values, tfms=Gps_tfms)\n",
    "Gps_test_loader = DataLoader(Gps_test_dataset, batch_size = CFG['BATCH_SIZE'], shuffle=True, num_workers=0)"
   ]
  },
  {
   "cell_type": "code",
   "execution_count": null,
   "id": "d4233fe0",
   "metadata": {},
   "outputs": [],
   "source": [
    "def inference(model, device):\n",
    "    model.to(device)\n",
    "    model.eval()\n",
    "    preds = []\n",
    "    with torch.no_grad():\n",
    "        for i, data in enumerate(zip(tqdm(RP_test_loader), Gps_test_loader)):\n",
    "            data1, data2 = data\n",
    "            images, labels = data1\n",
    "            gps, _ = data2\n",
    "            \n",
    "            images = images.to(device)\n",
    "            gps = gps.to(device)\n",
    "            labels = labels.to(device)\n",
    "            \n",
    "            logit = model(images, gps)\n",
    "            preds += logit.argmax(1).detach().cpu().numpy().tolist()\n",
    "    return preds"
   ]
  },
  {
   "cell_type": "code",
   "execution_count": null,
   "id": "673558b9",
   "metadata": {},
   "outputs": [],
   "source": []
  },
  {
   "cell_type": "code",
   "execution_count": null,
   "id": "4e04ea42",
   "metadata": {},
   "outputs": [],
   "source": [
    "preds = inference(model, device)"
   ]
  },
  {
   "cell_type": "code",
   "execution_count": null,
   "id": "2b40252d",
   "metadata": {},
   "outputs": [],
   "source": [
    "from sklearn.metrics import confusion_matrix\n",
    "\n",
    "confusion_matrix = confusion_matrix(test_df['action'], preds, labels=[4, 6, 8, 12, 13, 14])\n",
    "confusion_matrix"
   ]
  },
  {
   "cell_type": "code",
   "execution_count": null,
   "id": "cb14491f",
   "metadata": {},
   "outputs": [],
   "source": [
    "import seaborn as sns\n",
    "import matplotlib.pyplot as plt\n",
    "%matplotlib inline\n",
    "\n",
    "plt.figure(figsize = (25,25))\n",
    "plt.title('Confusion Matrix')\n",
    "\n",
    "sns.heatmap(confusion_matrix, annot=True)"
   ]
  },
  {
   "cell_type": "code",
   "execution_count": null,
   "id": "ecb171de",
   "metadata": {},
   "outputs": [],
   "source": [
    "from sklearn.metrics import f1_score \n",
    "f1 = f1_score(test_df['action'], preds, average='micro')\n",
    "print('F1-score: {0:.4f}'.format(f1))"
   ]
  },
  {
   "cell_type": "code",
   "execution_count": null,
   "id": "c7f32754",
   "metadata": {},
   "outputs": [],
   "source": [
    "from sklearn.metrics import classification_report\n",
    "y_true = test_df['action']\n",
    "y_pred = preds\n",
    "target_names = ['6', '12', '13', '14']\n",
    "print(classification_report(y_true, y_pred, target_names=target_names))"
   ]
  },
  {
   "cell_type": "code",
   "execution_count": null,
   "id": "d4ecf006",
   "metadata": {},
   "outputs": [],
   "source": []
  },
  {
   "cell_type": "code",
   "execution_count": null,
   "id": "77afecf2",
   "metadata": {},
   "outputs": [],
   "source": []
  },
  {
   "cell_type": "code",
   "execution_count": null,
   "id": "4d5c8989",
   "metadata": {},
   "outputs": [],
   "source": [
    "tmp = torch.load('./save_model/best/0422_RPmGps_lr3e-4_cab.pt')\n",
    "preds = inference(tmp, device)"
   ]
  },
  {
   "cell_type": "code",
   "execution_count": null,
   "id": "ec327451",
   "metadata": {},
   "outputs": [],
   "source": [
    "from sklearn.metrics import confusion_matrix\n",
    "\n",
    "confusion_matrix = confusion_matrix(test_df['action'], preds, labels=[x for x in range(0, 15)])\n",
    "confusion_matrix"
   ]
  },
  {
   "cell_type": "code",
   "execution_count": null,
   "id": "537251fa",
   "metadata": {},
   "outputs": [],
   "source": [
    "import seaborn as sns\n",
    "import matplotlib.pyplot as plt\n",
    "%matplotlib inline\n",
    "\n",
    "plt.figure(figsize = (25,25))\n",
    "plt.title('Confusion Matrix')\n",
    "\n",
    "sns.heatmap(confusion_matrix, annot=True)"
   ]
  },
  {
   "cell_type": "code",
   "execution_count": null,
   "id": "dfb7bec1",
   "metadata": {},
   "outputs": [],
   "source": [
    "from sklearn.metrics import classification_report\n",
    "y_true = test_df['action']\n",
    "y_pred = preds\n",
    "target_names = [str(x) for x in range(15)]\n",
    "print(classification_report(y_true, y_pred, target_names=target_names))"
   ]
  },
  {
   "cell_type": "code",
   "execution_count": null,
   "id": "46e8aa09",
   "metadata": {},
   "outputs": [],
   "source": [
    "le.inverse_transform([6, 12, 13, 14])"
   ]
  },
  {
   "cell_type": "code",
   "execution_count": null,
   "id": "d13c8f26",
   "metadata": {},
   "outputs": [],
   "source": []
  }
 ],
 "metadata": {
  "kernelspec": {
   "display_name": "Python 3 (ipykernel)",
   "language": "python",
   "name": "python3"
  },
  "language_info": {
   "codemirror_mode": {
    "name": "ipython",
    "version": 3
   },
   "file_extension": ".py",
   "mimetype": "text/x-python",
   "name": "python",
   "nbconvert_exporter": "python",
   "pygments_lexer": "ipython3",
   "version": "3.10.9"
  }
 },
 "nbformat": 4,
 "nbformat_minor": 5
}
